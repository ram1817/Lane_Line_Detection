{
  "cells": [
    {
      "metadata": {
        "id": "VpyPSXjJK_Bz"
      },
      "cell_type": "markdown",
      "source": [
        "<b><h1 align=center>Lane Line Detection using Computer Vision</h1></b>  \n",
        "<img src=\"https://github.com/udacity/CarND-LaneLines-P1/raw/master/examples/laneLines_thirdPass.jpg\" width=\"480\" alt=\"Combined Image\" />\n",
        "## Overview  \n",
        "When we drive, we use our eyes to decide where to go. The lines on the road that show us where the lanes are act as our constant reference for where to steer the vehicle. Naturally, one of the first things we would like to do in developing a self-driving car is to automatically detect lane lines using an algorithm.\n",
        "\n",
        "In this project you will detect lane lines in images using Python and OpenCV. OpenCV means \"Open-Source Computer Vision\", which is a package that has many useful tools for analyzing images.  \n",
        "  \n",
        "**The tools we have are color selection, region of interest selection, grayscaling, Gaussian smoothing, Canny Edge Detection and Hough Tranform line detection. Our goal is piece together a pipeline to detect the line segments in the image, then average/extrapolate them and draw them onto the image for display. Once we have a working pipeline, we will try it out on the video stream.**  \n",
        "  \n",
        "  \n",
        "  \n",
        "Source: [Udacity](https://udacity.com)"
      ]
    },
    {
      "metadata": {
        "_uuid": "8f2839f25d086af736a60e9eeb907d3b93b6e0e5",
        "_cell_guid": "b1076dfc-b9ad-4769-8c92-a6c4dae69d19",
        "trusted": true,
        "_kg_hide-input": true,
        "id": "7Es86qz_K_B6"
      },
      "cell_type": "code",
      "source": [
        "# This Python 3 environment comes with many helpful analytics libraries installed\n",
        "# It is defined by the kaggle/python docker image: https://github.com/kaggle/docker-python\n",
        "# For example, here's several helpful packages to load in\n",
        "\n",
        "import numpy as np # linear algebra\n",
        "import pandas as pd # data processing, CSV file I/O (e.g. pd.read_csv)\n",
        "\n",
        "# Input data files are available in the \"../input/\" directory.\n",
        "# For example, running this (by clicking run or pressing Shift+Enter) will list all files under the input directory\n",
        "\n",
        "import os\n",
        "for dirname, _, filenames in os.walk('/kaggle/input'):\n",
        "    for filename in filenames:\n",
        "        print(os.path.join(dirname, filename))\n",
        "\n",
        "# Any results you write to the current directory are saved as output.\n",
        "#importing some useful packages\n",
        "import matplotlib.pyplot as plt\n",
        "import matplotlib.image as mpimg\n",
        "import numpy as np\n",
        "import cv2\n",
        "%matplotlib inline"
      ],
      "execution_count": null,
      "outputs": []
    },
    {
      "metadata": {
        "id": "Aq8dLRlBK_B-"
      },
      "cell_type": "markdown",
      "source": [
        "## Get the required Images and Videos  \n",
        "Credits: [Udacity Self-Driving Car Nanodegree GitHub Repository](https://github.com/udacity/CarND-LaneLines-P1)"
      ]
    },
    {
      "metadata": {
        "trusted": true,
        "_kg_hide-output": true,
        "id": "ewW7hLvXK_B_"
      },
      "cell_type": "code",
      "source": [
        "!git clone https://github.com/udacity/CarND-LaneLines-P1.git"
      ],
      "execution_count": null,
      "outputs": []
    },
    {
      "metadata": {
        "trusted": true,
        "id": "LvMf34czK_CA"
      },
      "cell_type": "code",
      "source": [
        "from distutils.dir_util import copy_tree\n",
        "import shutil\n",
        "copy_tree(\"./CarND-LaneLines-P1/test_images\", \"./test_images\")\n",
        "copy_tree(\"./CarND-LaneLines-P1/test_videos\", \"./test_videos\")\n",
        "shutil.rmtree('./CarND-LaneLines-P1', ignore_errors=False, onerror=None)"
      ],
      "execution_count": null,
      "outputs": []
    },
    {
      "metadata": {
        "id": "Uv34kbvNK_CC"
      },
      "cell_type": "markdown",
      "source": [
        "# 1. Color Selection  \n",
        "First let us select some colors. For Instance: Lane Lines are usually **White** in color and we know the RGB value of White is (255,255,255). Here we will define a color threshold in the variables **red_threshold**, **green_threshold**, and **blue_threshold** and populate **rgb_threshold** with these values. This vector contains the minimum values for red, green, and blue (R,G,B) that I will allow in my selection."
      ]
    },
    {
      "metadata": {
        "_uuid": "d629ff2d2480ee46fbb7e2d37f6b5fab8052498a",
        "_cell_guid": "79c7e3d0-c299-4dcb-8224-4455121ee9b0",
        "trusted": true,
        "id": "W8E1qBw1K_CD"
      },
      "cell_type": "code",
      "source": [
        "import matplotlib.pyplot as plt\n",
        "import matplotlib.image as mpimg\n",
        "import numpy as np\n",
        "\n",
        "# Read in the image\n",
        "image = mpimg.imread('test_images/solidWhiteRight.jpg')\n",
        "\n",
        "# Grab the x and y size and make a copy of the image\n",
        "ysize = image.shape[0]\n",
        "xsize = image.shape[1]\n",
        "color_select = np.copy(image)\n",
        "\n",
        "# Define color selection criteria\n",
        "###### MODIFY THESE VARIABLES TO MAKE YOUR COLOR SELECTION\n",
        "red_threshold = 200\n",
        "green_threshold = 200\n",
        "blue_threshold = 200\n",
        "######\n",
        "\n",
        "rgb_threshold = [red_threshold, green_threshold, blue_threshold]\n",
        "\n",
        "# Do a boolean or with the \"|\" character to identify\n",
        "# pixels below the thresholds\n",
        "thresholds = (image[:,:,0] < rgb_threshold[0]) \\\n",
        "            | (image[:,:,1] < rgb_threshold[1]) \\\n",
        "            | (image[:,:,2] < rgb_threshold[2])\n",
        "color_select[thresholds] = [0,0,0]\n",
        "\n",
        "# Display the image\n",
        "plt.imshow(image)\n",
        "plt.title(\"Input Image\")\n",
        "plt.show()\n",
        "plt.imshow(color_select)\n",
        "plt.title(\"Color Selected Image\")\n",
        "plt.show()\n",
        "\n",
        "# Uncomment the following code if you are running the code locally and wish to save the image\n",
        "# mpimg.imsave(\"test-after.jpg\", color_select)"
      ],
      "execution_count": null,
      "outputs": []
    },
    {
      "metadata": {
        "id": "Lhh8cTI6K_CE"
      },
      "cell_type": "markdown",
      "source": [
        "**In the above output we can clearly see the lane lines**"
      ]
    },
    {
      "metadata": {
        "id": "Uo-Ccvi4K_CF"
      },
      "cell_type": "markdown",
      "source": [
        "# 2. Region Masking  \n",
        "I'll assume that the front facing camera that took the image is mounted in a fixed position on the car, such that the lane lines will always appear in the same general region of the image. Next, I'll take advantage of this by adding a criterion to only consider pixels for color selection in the region where we expect to find the lane lines.\n",
        "\n",
        "Check out the code below. The variables **left_bottom**, **right_bottom**, and **apex** represent the vertices of a **triangular region** that I would like to retain for my color selection, while masking everything else out. Here I'm using a triangular mask to illustrate the simplest case, but we can use a quadrilateral, and in principle, we could use any polygon."
      ]
    },
    {
      "metadata": {
        "trusted": true,
        "id": "0yBKyEYZK_CF"
      },
      "cell_type": "code",
      "source": [
        "import matplotlib.pyplot as plt\n",
        "import matplotlib.image as mpimg\n",
        "import numpy as np\n",
        "\n",
        "# Read in the image\n",
        "image = mpimg.imread('test_images/solidWhiteRight.jpg')\n",
        "\n",
        "# Grab the x and y size and make a copy of the image\n",
        "ysize = image.shape[0]\n",
        "xsize = image.shape[1]\n",
        "color_select = np.copy(image)\n",
        "line_image = np.copy(image)\n",
        "\n",
        "# Define color selection criteria\n",
        "# MODIFY THESE VARIABLES TO MAKE YOUR COLOR SELECTION\n",
        "red_threshold = 200\n",
        "green_threshold = 200\n",
        "blue_threshold = 200\n",
        "\n",
        "rgb_threshold = [red_threshold, green_threshold, blue_threshold]\n",
        "\n",
        "# Define the vertices of a triangular mask.\n",
        "# Keep in mind the origin (x=0, y=0) is in the upper left\n",
        "# MODIFY THESE VALUES TO ISOLATE THE REGION\n",
        "# WHERE THE LANE LINES ARE IN THE IMAGE\n",
        "left_bottom = [100, 539]\n",
        "right_bottom = [950, 539]\n",
        "apex = [480, 290]\n",
        "\n",
        "# Perform a linear fit (y=Ax+B) to each of the three sides of the triangle\n",
        "# np.polyfit returns the coefficients [A, B] of the fit\n",
        "fit_left = np.polyfit((left_bottom[0], apex[0]), (left_bottom[1], apex[1]), 1)\n",
        "fit_right = np.polyfit((right_bottom[0], apex[0]), (right_bottom[1], apex[1]), 1)\n",
        "fit_bottom = np.polyfit((left_bottom[0], right_bottom[0]), (left_bottom[1], right_bottom[1]), 1)\n",
        "\n",
        "# Mask pixels below the threshold\n",
        "color_thresholds = (image[:,:,0] < rgb_threshold[0]) | \\\n",
        "                    (image[:,:,1] < rgb_threshold[1]) | \\\n",
        "                    (image[:,:,2] < rgb_threshold[2])\n",
        "\n",
        "# Find the region inside the lines\n",
        "XX, YY = np.meshgrid(np.arange(0, xsize), np.arange(0, ysize))\n",
        "region_thresholds = (YY > (XX*fit_left[0] + fit_left[1])) & \\\n",
        "                    (YY > (XX*fit_right[0] + fit_right[1])) & \\\n",
        "                    (YY < (XX*fit_bottom[0] + fit_bottom[1]))\n",
        "\n",
        "# Mask color and region selection\n",
        "color_select[color_thresholds | ~region_thresholds] = [0, 0, 0]\n",
        "# Color pixels red where both color and region selections met\n",
        "line_image[~color_thresholds & region_thresholds] = [9, 255, 0]\n",
        "\n",
        "# Display the image and show region and color selections\n",
        "plt.imshow(image)\n",
        "x = [left_bottom[0], right_bottom[0], apex[0], left_bottom[0]]\n",
        "y = [left_bottom[1], right_bottom[1], apex[1], left_bottom[1]]\n",
        "plt.plot(x, y, 'r--', lw=4)\n",
        "plt.title(\"Region Of Interest\")\n",
        "plt.show()\n",
        "plt.imshow(color_select)\n",
        "plt.title(\"Color Selection in the Triangular Region\")\n",
        "plt.show()\n",
        "plt.imshow(line_image)\n",
        "plt.title(\"Region Masked Image [Lane Lines in Green]\")\n",
        "plt.show()"
      ],
      "execution_count": null,
      "outputs": []
    },
    {
      "metadata": {
        "id": "Q4pfJs-QK_CG"
      },
      "cell_type": "markdown",
      "source": [
        "# Yeah! We've successfully detected the Lane Lines (Really ?)\n",
        "## Check the below test."
      ]
    },
    {
      "metadata": {
        "trusted": true,
        "id": "eP5t36wTK_CH"
      },
      "cell_type": "code",
      "source": [
        "import matplotlib.pyplot as plt\n",
        "import matplotlib.image as mpimg\n",
        "import numpy as np\n",
        "\n",
        "# Read in the image\n",
        "image = mpimg.imread('test_images/solidYellowLeft.jpg')\n",
        "\n",
        "# Grab the x and y size and make a copy of the image\n",
        "ysize = image.shape[0]\n",
        "xsize = image.shape[1]\n",
        "color_select = np.copy(image)\n",
        "line_image = np.copy(image)\n",
        "\n",
        "# Define color selection criteria\n",
        "# MODIFY THESE VARIABLES TO MAKE YOUR COLOR SELECTION\n",
        "red_threshold = 200\n",
        "green_threshold = 200\n",
        "blue_threshold = 200\n",
        "\n",
        "rgb_threshold = [red_threshold, green_threshold, blue_threshold]\n",
        "\n",
        "# Define the vertices of a triangular mask.\n",
        "# Keep in mind the origin (x=0, y=0) is in the upper left\n",
        "# MODIFY THESE VALUES TO ISOLATE THE REGION\n",
        "# WHERE THE LANE LINES ARE IN THE IMAGE\n",
        "left_bottom = [100, 539]\n",
        "right_bottom = [950, 539]\n",
        "apex = [480, 290]\n",
        "\n",
        "# Perform a linear fit (y=Ax+B) to each of the three sides of the triangle\n",
        "# np.polyfit returns the coefficients [A, B] of the fit\n",
        "fit_left = np.polyfit((left_bottom[0], apex[0]), (left_bottom[1], apex[1]), 1)\n",
        "fit_right = np.polyfit((right_bottom[0], apex[0]), (right_bottom[1], apex[1]), 1)\n",
        "fit_bottom = np.polyfit((left_bottom[0], right_bottom[0]), (left_bottom[1], right_bottom[1]), 1)\n",
        "\n",
        "# Mask pixels below the threshold\n",
        "color_thresholds = (image[:,:,0] < rgb_threshold[0]) | \\\n",
        "                    (image[:,:,1] < rgb_threshold[1]) | \\\n",
        "                    (image[:,:,2] < rgb_threshold[2])\n",
        "\n",
        "# Find the region inside the lines\n",
        "XX, YY = np.meshgrid(np.arange(0, xsize), np.arange(0, ysize))\n",
        "region_thresholds = (YY > (XX*fit_left[0] + fit_left[1])) & \\\n",
        "                    (YY > (XX*fit_right[0] + fit_right[1])) & \\\n",
        "                    (YY < (XX*fit_bottom[0] + fit_bottom[1]))\n",
        "\n",
        "# Mask color and region selection\n",
        "color_select[color_thresholds | ~region_thresholds] = [0, 0, 0]\n",
        "# Color pixels red where both color and region selections met\n",
        "line_image[~color_thresholds & region_thresholds] = [9, 255, 0]\n",
        "\n",
        "# Display the image and show region and color selections\n",
        "plt.imshow(image)\n",
        "x = [left_bottom[0], right_bottom[0], apex[0], left_bottom[0]]\n",
        "y = [left_bottom[1], right_bottom[1], apex[1], left_bottom[1]]\n",
        "plt.plot(x, y, 'r--', lw=4)\n",
        "plt.title(\"Region Of Interest\")\n",
        "plt.show()\n",
        "plt.imshow(color_select)\n",
        "plt.title(\"Color Selection\")\n",
        "plt.show()\n",
        "plt.imshow(line_image)\n",
        "plt.title(\"Output Image\")\n",
        "plt.show()"
      ],
      "execution_count": null,
      "outputs": []
    },
    {
      "metadata": {
        "id": "YRnHraaQK_CH"
      },
      "cell_type": "markdown",
      "source": [
        "## Opps! We got a yellow line [undetected] here. Let's fix this up."
      ]
    },
    {
      "metadata": {
        "id": "XxwUZRUpK_CI"
      },
      "cell_type": "markdown",
      "source": [
        "# 3. Canny Edge Detection  \n",
        "Now we are applying **Canny** to the gray-scaled image and our output will be another image called edges. **low_threshold** and **high_threshold** are your **thresholds for edge detection**.\n",
        "\n",
        "The algorithm will first detect strong **edge** (strong gradient) pixels above the **high_threshold**, and reject pixels below the **low_threshold**. Next, pixels with values between the **low_threshold** and **high_threshold** will be included as long as they are connected to strong edges. **The output edges is a binary image with white pixels tracing out the detected edges and black everywhere else**. See the [OpenCV Canny Docs](http://docs.opencv.org/2.4/doc/tutorials/imgproc/imgtrans/canny_detector/canny_detector.html) for more details.\n",
        "\n",
        "**What would make sense as a reasonable range for these parameters?** In our case, converting to grayscale has left us with an 8-bit image, so each pixel can take 2^8 = 256 possible values. Hence, the pixel values range from 0 to 255.\n",
        "\n",
        "This range implies that **derivatives** (essentially, the value differences from pixel to pixel) will be on the scale of tens or hundreds. So, a reasonable range for your threshold parameters would also be in the tens to hundreds.\n",
        "\n",
        "As far as a ratio of **low_threshold** to **high_threshold**, **[John Canny](http://docs.opencv.org/2.4/doc/tutorials/imgproc/imgtrans/canny_detector/canny_detector.html#steps) himself recommended a low to high ratio of 1:2 or 1:3.**\n",
        "\n",
        "We'll also include **Gaussian smoothing**, before running **Canny**, which is **essentially a way of suppressing noise and spurious gradients by averaging (check out the OpenCV docs for GaussianBlur). cv2.Canny() actually applies Gaussian smoothing internally, but we include it here because you can get a different result by applying further smoothing (and it's not a changeable parameter within cv2.Canny()!).****\n",
        "\n",
        "You can choose the **kernel_size** for Gaussian smoothing to be any odd number. **A larger kernel_size implies averaging, or smoothing, over a larger area.**"
      ]
    },
    {
      "metadata": {
        "trusted": true,
        "id": "YgC617rQK_CI"
      },
      "cell_type": "code",
      "source": [
        "# Do all the relevant imports\n",
        "import matplotlib.pyplot as plt\n",
        "import matplotlib.image as mpimg\n",
        "import numpy as np\n",
        "import cv2\n",
        "\n",
        "# Read in the image and convert to grayscale\n",
        "# Note: in the previous example we were reading a .jpg\n",
        "# Here we read a .png and convert to 0,255 bytescale\n",
        "image = mpimg.imread('test_images/solidYellowLeft.jpg')\n",
        "gray = cv2.cvtColor(image,cv2.COLOR_RGB2GRAY)\n",
        "\n",
        "# Define a kernel size for Gaussian smoothing / blurring\n",
        "kernel_size = 5 # Must be an odd number (3, 5, 7...)\n",
        "blur_gray = cv2.GaussianBlur(gray,(kernel_size, kernel_size),0)\n",
        "\n",
        "# Define our parameters for Canny and run it\n",
        "low_threshold = 180\n",
        "high_threshold = 240\n",
        "edges = cv2.Canny(blur_gray, low_threshold, high_threshold)\n",
        "\n",
        "# Display the image\n",
        "plt.imshow(edges, cmap='Greys_r')\n",
        "plt.title(\"Canny Edge Detection Image\")\n",
        "plt.show()"
      ],
      "execution_count": null,
      "outputs": []
    },
    {
      "metadata": {
        "id": "4jmDU2UGK_CI"
      },
      "cell_type": "markdown",
      "source": [
        "# 4. Hough Transform and detecting Lane Lines  \n",
        "## Hough Transform\n",
        "In image space, a line is plotted as x vs. y, but in 1962, Paul Hough devised a method for representing lines in parameter space, which we will call “Hough space” in his honor.\n",
        "\n",
        "In Hough space, I can represent my \"x vs. y\" line as a point in \"m vs. b\" instead. The Hough Transform is just the conversion from image space to Hough space. So, the characterization of a line in image space will be a single point at the position (m, b) in Hough space. References [Click Here](https://opencv-python-tutroals.readthedocs.io/en/latest/py_tutorials/py_imgproc/py_houghlines/py_houghlines.html)"
      ]
    },
    {
      "metadata": {
        "trusted": true,
        "id": "-rpRSmF1K_CJ"
      },
      "cell_type": "code",
      "source": [
        "# Read in and grayscale the image\n",
        "image = mpimg.imread('test_images/solidYellowLeft.jpg')\n",
        "gray = cv2.cvtColor(image,cv2.COLOR_RGB2GRAY)\n",
        "\n",
        "# Define a kernel size and apply Gaussian smoothing\n",
        "kernel_size = 5\n",
        "blur_gray = cv2.GaussianBlur(gray,(kernel_size, kernel_size),0)\n",
        "\n",
        "# Define our parameters for Canny and apply\n",
        "low_threshold = 180\n",
        "high_threshold = 240\n",
        "edges = cv2.Canny(blur_gray, low_threshold, high_threshold)\n",
        "\n",
        "# Next we'll create a masked edges image using cv2.fillPoly()\n",
        "mask = np.zeros_like(edges)\n",
        "ignore_mask_color = 255\n",
        "\n",
        "# This time we are defining a four sided polygon to mask\n",
        "imshape = image.shape\n",
        "vertices = np.array([[(0,imshape[0]),(450, 290), (490, 290), (imshape[1],imshape[0])]], dtype=np.int32)\n",
        "cv2.fillPoly(mask, vertices, ignore_mask_color)\n",
        "masked_edges = cv2.bitwise_and(edges, mask)\n",
        "\n",
        "# Define the Hough transform parameters\n",
        "# Make a blank the same size as our image to draw on\n",
        "rho = 1 # distance resolution in pixels of the Hough grid\n",
        "theta = np.pi/180 # angular resolution in radians of the Hough grid\n",
        "threshold = 2     # minimum number of votes (intersections in Hough grid cell)\n",
        "min_line_length = 4 #minimum number of pixels making up a line\n",
        "max_line_gap = 5    # maximum gap in pixels between connectable line segments\n",
        "line_image = np.copy(image)*0 # creating a blank to draw lines on\n",
        "\n",
        "# Run Hough on edge detected image\n",
        "# Output \"lines\" is an array containing endpoints of detected line segments\n",
        "lines = cv2.HoughLinesP(masked_edges, rho, theta, threshold, np.array([]),\n",
        "                            min_line_length, max_line_gap)\n",
        "\n",
        "# Iterate over the output \"lines\" and draw lines on a blank image\n",
        "for line in lines:\n",
        "    for x1,y1,x2,y2 in line:\n",
        "        cv2.line(line_image,(x1,y1),(x2,y2),(255,0,0),10)\n",
        "\n",
        "# Create a \"color\" binary image to combine with line image\n",
        "color_edges = np.dstack((edges, edges, edges))\n",
        "\n",
        "# Draw the lines on the edge image\n",
        "lines_edges = cv2.addWeighted(color_edges, 0.8, line_image, 1, 0)\n",
        "lines_edges = cv2.polylines(lines_edges,vertices, True, (0,0,255), 10)\n",
        "plt.imshow(image)\n",
        "plt.title(\"Input Image\")\n",
        "plt.show()\n",
        "plt.imshow(lines_edges)\n",
        "plt.title(\"Colored Lane line [In RED] and Region of Interest [In Blue]\")\n",
        "plt.show()"
      ],
      "execution_count": null,
      "outputs": []
    },
    {
      "metadata": {
        "id": "D1HOya6VK_CK"
      },
      "cell_type": "markdown",
      "source": [
        "# Congratulations! We've successfully detected Lane Lines from different images using OpenCV. (No Deep Learning :-))"
      ]
    },
    {
      "metadata": {
        "id": "pX_jkWqwK_CK"
      },
      "cell_type": "markdown",
      "source": [
        "# 5. Let's Make a Lane Detection Pipeline  \n",
        "1. Gray Scale\n",
        "2. Gaussian Smoothing\n",
        "3. Canny Edge Detection\n",
        "4. Region Masking\n",
        "5. Hough Transform\n",
        "6. Draw Lines [Mark Lane Lines with different Color]"
      ]
    },
    {
      "metadata": {
        "trusted": true,
        "id": "T5pKZtfSK_CK"
      },
      "cell_type": "code",
      "source": [
        "import math\n",
        "\n",
        "def grayscale(img):\n",
        "    \"\"\"Applies the Grayscale transform\n",
        "    This will return an image with only one color channel\n",
        "    but NOTE: to see the returned image as grayscale\n",
        "    (assuming your grayscaled image is called 'gray')\n",
        "    you should call plt.imshow(gray, cmap='gray')\"\"\"\n",
        "    return cv2.cvtColor(img, cv2.COLOR_RGB2GRAY)\n",
        "    # Or use BGR2GRAY if you read an image with cv2.imread()\n",
        "    # return cv2.cvtColor(img, cv2.COLOR_BGR2GRAY)\n",
        "\n",
        "def canny(img, low_threshold, high_threshold):\n",
        "    \"\"\"Applies the Canny transform\"\"\"\n",
        "    return cv2.Canny(img, low_threshold, high_threshold)\n",
        "\n",
        "def gaussian_blur(img, kernel_size):\n",
        "    \"\"\"Applies a Gaussian Noise kernel\"\"\"\n",
        "    return cv2.GaussianBlur(img, (kernel_size, kernel_size), 0)\n",
        "\n",
        "def region_of_interest(img, vertices):\n",
        "    \"\"\"\n",
        "    Applies an image mask.\n",
        "\n",
        "    Only keeps the region of the image defined by the polygon\n",
        "    formed from `vertices`. The rest of the image is set to black.\n",
        "    `vertices` should be a numpy array of integer points.\n",
        "    \"\"\"\n",
        "    #defining a blank mask to start with\n",
        "    mask = np.zeros_like(img)\n",
        "\n",
        "    #defining a 3 channel or 1 channel color to fill the mask with depending on the input image\n",
        "    if len(img.shape) > 2:\n",
        "        channel_count = img.shape[2]  # i.e. 3 or 4 depending on your image\n",
        "        ignore_mask_color = (255,) * channel_count\n",
        "    else:\n",
        "        ignore_mask_color = 255\n",
        "\n",
        "    #filling pixels inside the polygon defined by \"vertices\" with the fill color\n",
        "    cv2.fillPoly(mask, vertices, ignore_mask_color)\n",
        "\n",
        "    #returning the image only where mask pixels are nonzero\n",
        "    masked_image = cv2.bitwise_and(img, mask)\n",
        "    return masked_image\n",
        "\n",
        "\n",
        "def draw_lines(img, lines, color=[255, 0, 0], thickness=10):\n",
        "    \"\"\"\n",
        "    NOTE: this is the function you might want to use as a starting point once you want to\n",
        "    average/extrapolate the line segments you detect to map out the full\n",
        "    extent of the lane (going from the result shown in raw-lines-example.mp4\n",
        "    to that shown in P1_example.mp4).\n",
        "\n",
        "    Think about things like separating line segments by their\n",
        "    slope ((y2-y1)/(x2-x1)) to decide which segments are part of the left\n",
        "    line vs. the right line.  Then, you can average the position of each of\n",
        "    the lines and extrapolate to the top and bottom of the lane.\n",
        "\n",
        "    This function draws `lines` with `color` and `thickness`.\n",
        "    Lines are drawn on the image inplace (mutates the image).\n",
        "    If you want to make the lines semi-transparent, think about combining\n",
        "    this function with the weighted_img() function below\n",
        "    \"\"\"\n",
        "    for line in lines:\n",
        "        for x1,y1,x2,y2 in line:\n",
        "            cv2.line(img, (x1, y1), (x2, y2), color, thickness)\n",
        "\n",
        "def slope_lines(image,lines):\n",
        "\n",
        "    img = image.copy()\n",
        "    poly_vertices = []\n",
        "    order = [0,1,3,2]\n",
        "\n",
        "    left_lines = [] # Like /\n",
        "    right_lines = [] # Like \\\n",
        "    for line in lines:\n",
        "        for x1,y1,x2,y2 in line:\n",
        "\n",
        "            if x1 == x2:\n",
        "                pass #Vertical Lines\n",
        "            else:\n",
        "                m = (y2 - y1) / (x2 - x1)\n",
        "                c = y1 - m * x1\n",
        "\n",
        "                if m < 0:\n",
        "                    left_lines.append((m,c))\n",
        "                elif m >= 0:\n",
        "                    right_lines.append((m,c))\n",
        "\n",
        "    left_line = np.mean(left_lines, axis=0)\n",
        "    right_line = np.mean(right_lines, axis=0)\n",
        "\n",
        "    #print(left_line, right_line)\n",
        "\n",
        "    for slope, intercept in [left_line, right_line]:\n",
        "\n",
        "        #getting complete height of image in y1\n",
        "        rows, cols = image.shape[:2]\n",
        "        y1= int(rows) #image.shape[0]\n",
        "\n",
        "        #taking y2 upto 60% of actual height or 60% of y1\n",
        "        y2= int(rows*0.6) #int(0.6*y1)\n",
        "\n",
        "        #we know that equation of line is y=mx +c so we can write it x=(y-c)/m\n",
        "        x1=int((y1-intercept)/slope)\n",
        "        x2=int((y2-intercept)/slope)\n",
        "        poly_vertices.append((x1, y1))\n",
        "        poly_vertices.append((x2, y2))\n",
        "        draw_lines(img, np.array([[[x1,y1,x2,y2]]]))\n",
        "\n",
        "    poly_vertices = [poly_vertices[i] for i in order]\n",
        "    cv2.fillPoly(img, pts = np.array([poly_vertices],'int32'), color = (0,255,0))\n",
        "    return cv2.addWeighted(image,0.7,img,0.4,0.)\n",
        "\n",
        "    #cv2.polylines(img,np.array([poly_vertices],'int32'), True, (0,0,255), 10)\n",
        "    #print(poly_vertices)\n",
        "\n",
        "def hough_lines(img, rho, theta, threshold, min_line_len, max_line_gap):\n",
        "    \"\"\"\n",
        "    `img` should be the output of a Canny transform.\n",
        "\n",
        "    Returns an image with hough lines drawn.\n",
        "    \"\"\"\n",
        "    lines = cv2.HoughLinesP(img, rho, theta, threshold, np.array([]), minLineLength=min_line_len, maxLineGap=max_line_gap)\n",
        "    line_img = np.zeros((img.shape[0], img.shape[1], 3), dtype=np.uint8)\n",
        "    #draw_lines(line_img, lines)\n",
        "    line_img = slope_lines(line_img,lines)\n",
        "    return line_img\n",
        "\n",
        "# Python 3 has support for cool math symbols.\n",
        "\n",
        "def weighted_img(img, initial_img, α=0.1, β=1., γ=0.):\n",
        "    \"\"\"\n",
        "    `img` is the output of the hough_lines(), An image with lines drawn on it.\n",
        "    Should be a blank image (all black) with lines drawn on it.\n",
        "\n",
        "    `initial_img` should be the image before any processing.\n",
        "\n",
        "    The result image is computed as follows:\n",
        "\n",
        "    initial_img * α + img * β + γ\n",
        "    NOTE: initial_img and img must be the same shape!\n",
        "    \"\"\"\n",
        "    lines_edges = cv2.addWeighted(initial_img, α, img, β, γ)\n",
        "    #lines_edges = cv2.polylines(lines_edges,get_vertices(img), True, (0,0,255), 10)\n",
        "    return lines_edges\n",
        "def get_vertices(image):\n",
        "    rows, cols = image.shape[:2]\n",
        "    bottom_left  = [cols*0.15, rows]\n",
        "    top_left     = [cols*0.45, rows*0.6]\n",
        "    bottom_right = [cols*0.95, rows]\n",
        "    top_right    = [cols*0.55, rows*0.6]\n",
        "\n",
        "    ver = np.array([[bottom_left, top_left, top_right, bottom_right]], dtype=np.int32)\n",
        "    return ver"
      ],
      "execution_count": null,
      "outputs": []
    },
    {
      "metadata": {
        "trusted": true,
        "id": "01wH1RYfK_CM"
      },
      "cell_type": "code",
      "source": [
        "# Lane finding Pipeline\n",
        "def lane_finding_pipeline(image):\n",
        "\n",
        "    #Grayscale\n",
        "    gray_img = grayscale(image)\n",
        "    #Gaussian Smoothing\n",
        "    smoothed_img = gaussian_blur(img = gray_img, kernel_size = 5)\n",
        "    #Canny Edge Detection\n",
        "    canny_img = canny(img = smoothed_img, low_threshold = 180, high_threshold = 240)\n",
        "    #Masked Image Within a Polygon\n",
        "    masked_img = region_of_interest(img = canny_img, vertices = get_vertices(image))\n",
        "    #Hough Transform Lines\n",
        "    houghed_lines = hough_lines(img = masked_img, rho = 1, theta = np.pi/180, threshold = 20, min_line_len = 20, max_line_gap = 180)\n",
        "    #Draw lines on edges\n",
        "    output = weighted_img(img = houghed_lines, initial_img = image, α=0.8, β=1., γ=0.)\n",
        "\n",
        "    return output"
      ],
      "execution_count": null,
      "outputs": []
    },
    {
      "metadata": {
        "id": "AT8tKaaIK_CM"
      },
      "cell_type": "markdown",
      "source": [
        "# Test our Algorithm Pipeline with different Images"
      ]
    },
    {
      "metadata": {
        "trusted": true,
        "id": "1DaAzc3CK_CN"
      },
      "cell_type": "code",
      "source": [
        "for image_path in list(os.listdir('./test_images')):\n",
        "    fig = plt.figure(figsize=(20, 10))\n",
        "    image = mpimg.imread(f'./test_images/{image_path}')\n",
        "    ax = fig.add_subplot(1, 2, 1,xticks=[], yticks=[])\n",
        "    plt.imshow(image)\n",
        "    ax.set_title(\"Input Image\")\n",
        "    ax = fig.add_subplot(1, 2, 2,xticks=[], yticks=[])\n",
        "    plt.imshow(lane_finding_pipeline(image))\n",
        "    ax.set_title(\"Output Image [Lane Line Detected]\")\n",
        "    plt.show()"
      ],
      "execution_count": null,
      "outputs": []
    },
    {
      "metadata": {
        "id": "jrNbXx7UK_CN"
      },
      "cell_type": "markdown",
      "source": [
        "## Test on Eastern Delhi Expressway"
      ]
    },
    {
      "metadata": {
        "trusted": true,
        "id": "sL-hKJz4K_CN"
      },
      "cell_type": "code",
      "source": [
        "fig = plt.figure(figsize=(20, 10))\n",
        "image = mpimg.imread('../input/test-img/Eastern Delhi Expressway.png')\n",
        "image = cv2.cvtColor(image, cv2.COLOR_BGRA2RGB)\n",
        "image *= 255/image.max()\n",
        "image = image.astype(np.uint8)\n",
        "ax = fig.add_subplot(1, 2, 1,xticks=[], yticks=[])\n",
        "plt.imshow(image)\n",
        "ax.set_title(\"Input Image\")\n",
        "ax = fig.add_subplot(1, 2, 2,xticks=[], yticks=[])\n",
        "plt.imshow(lane_finding_pipeline(image))\n",
        "ax.set_title(\"Output Image [Lane Line Detected]\")\n",
        "plt.show()"
      ],
      "execution_count": null,
      "outputs": []
    },
    {
      "metadata": {
        "id": "LZI7FrM3K_CN"
      },
      "cell_type": "markdown",
      "source": [
        "# 6. Let's try with Video Stream [Yes! Real-time Lane Line Detection]"
      ]
    },
    {
      "metadata": {
        "id": "DOxhf27_K_CO"
      },
      "cell_type": "markdown",
      "source": [
        "*Install moviepy package*"
      ]
    },
    {
      "metadata": {
        "trusted": true,
        "_kg_hide-output": true,
        "id": "BqsqN4gyK_CO"
      },
      "cell_type": "code",
      "source": [
        "!pip install moviepy"
      ],
      "execution_count": null,
      "outputs": []
    },
    {
      "metadata": {
        "trusted": true,
        "id": "XoyTnqUhK_CP"
      },
      "cell_type": "code",
      "source": [
        "# Import everything needed to edit/save/watch video clips\n",
        "from moviepy.editor import VideoFileClip\n",
        "from IPython.display import HTML"
      ],
      "execution_count": null,
      "outputs": []
    },
    {
      "metadata": {
        "trusted": true,
        "id": "yFzPsb0sK_CP"
      },
      "cell_type": "code",
      "source": [
        "# !wget -O \"test_videos/jaipurHighway.mp4\" \"https://r6---sn-gwpa-ccpe.googlevideo.com/videoplayback?expire=1567196271&ei=DzBpXcq8Bs6k1gKvvp_IBg&ip=185.172.110.235&id=o-AJgxIMoUEuKDGJuLvFDwCoVO-YFXJIv-63q28E5_-tuR&itag=137&aitags=133,134,135,136,137,160,242,243,244,247,248,271,278&source=youtube&requiressl=yes&mime=video/mp4&gir=yes&clen=290548152&dur=605.233&lmt=1530245281069433&fvip=6&keepalive=yes&c=WEB&sparams=expire,ei,ip,id,aitags,source,requiressl,mime,gir,clen,dur,lmt&sig=ALgxI2wwRAIgK8XLsUt8Wep20jakCHAkIuLXvss_9xmrjYo1bLouuKQCIDkKYeQn5jmmtnOe1lUV2IxL0dFYnwu5Gs51cATjK38c&title=&redirect_counter=1&rm=sn-5hnes77e&req_id=3a264db9667ba3ee&cms_redirect=yes&ipbypass=yes&mip=2409:4062:2396:e5fe:4403:883f:7067:3510&mm=31&mn=sn-gwpa-ccpe&ms=au&mt=1567175087&mv=m&mvi=5&pl=36&lsparams=ipbypass,mip,mm,mn,ms,mv,mvi,pl&lsig=AHylml4wRQIgEyH_i_cWEcUkxdxJmn23UlcBFXEDgElDaFsMN2WPB8sCIQD5fWqZ19kCQTPncHL3uhVfmYkLGu9jDq7ZJ3Tljk8b_w==\""
      ],
      "execution_count": null,
      "outputs": []
    },
    {
      "metadata": {
        "id": "aBooLnxnK_CP"
      },
      "cell_type": "markdown",
      "source": [
        "## **Test with Video Clip 1 [Solid White Lane Lines]**"
      ]
    },
    {
      "metadata": {
        "trusted": true,
        "id": "fa-QtPBBK_CP"
      },
      "cell_type": "code",
      "source": [
        "white_output = './solidWhiteRight.mp4'\n",
        "## To speed up the testing process you may want to try your pipeline on a shorter subclip of the video\n",
        "## To do so add .subclip(start_second,end_second) to the end of the line below\n",
        "## Where start_second and end_second are integer values representing the start and end of the subclip\n",
        "## You may also uncomment the following line for a subclip of the first 5 seconds\n",
        "#clip1 = VideoFileClip(\"test_videos/jaipurHighway.mp4\").subclip(50,60)\n",
        "clip1 = VideoFileClip(\"test_videos/solidWhiteRight.mp4\")\n",
        "white_clip = clip1.fl_image(lane_finding_pipeline) #NOTE: this function expects color images!!\n",
        "%time white_clip.write_videofile(white_output, audio=False)"
      ],
      "execution_count": null,
      "outputs": []
    },
    {
      "metadata": {
        "id": "9FTKo73DK_CQ"
      },
      "cell_type": "markdown",
      "source": [
        "### **Output Video**"
      ]
    },
    {
      "metadata": {
        "trusted": true,
        "id": "sakLruJoK_CQ"
      },
      "cell_type": "code",
      "source": [
        "HTML(\"\"\"\n",
        "<video width=\"960\" height=\"500\" controls>\n",
        "  <source src=\"{0}\">\n",
        "</video>\n",
        "\"\"\".format(white_output))"
      ],
      "execution_count": null,
      "outputs": []
    },
    {
      "metadata": {
        "id": "mkZsuwktK_CR"
      },
      "cell_type": "markdown",
      "source": [
        "## **Test with Video Clip 2 [With Yellow Lane Lines]**"
      ]
    },
    {
      "metadata": {
        "trusted": true,
        "id": "Z5NdGYZZK_CR"
      },
      "cell_type": "code",
      "source": [
        "yellow_output = './solidYellowLeft.mp4'\n",
        "## To speed up the testing process you may want to try your pipeline on a shorter subclip of the video\n",
        "## To do so add .subclip(start_second,end_second) to the end of the line below\n",
        "## Where start_second and end_second are integer values representing the start and end of the subclip\n",
        "## You may also uncomment the following line for a subclip of the first 5 seconds\n",
        "##clip2 = VideoFileClip('test_videos/solidYellowLeft.mp4').subclip(0,5)\n",
        "clip2 = VideoFileClip('test_videos/solidYellowLeft.mp4')\n",
        "yellow_clip = clip2.fl_image(lane_finding_pipeline)\n",
        "%time yellow_clip.write_videofile(yellow_output, audio=False)"
      ],
      "execution_count": null,
      "outputs": []
    },
    {
      "metadata": {
        "id": "DzNZJTFWK_CR"
      },
      "cell_type": "markdown",
      "source": [
        "### **Output**"
      ]
    },
    {
      "metadata": {
        "trusted": true,
        "id": "COxBuCVjK_CS"
      },
      "cell_type": "code",
      "source": [
        "HTML(\"\"\"\n",
        "<video width=\"960\" height=\"500\" controls>\n",
        "  <source src=\"{0}\">\n",
        "</video>\n",
        "\"\"\".format(yellow_output))"
      ],
      "execution_count": null,
      "outputs": []
    },
    {
      "metadata": {
        "id": "UXDoFqoZK_CS"
      },
      "cell_type": "markdown",
      "source": [
        "## **Shortcomings**  \n",
        "**1. Hough Transform is fit for Straight Lines only but in reality curved lane lines exists where this will fail.**   \n",
        "**2. There are many roads which don't have lane markings where this will fail.**"
      ]
    }
  ],
  "metadata": {
    "kernelspec": {
      "language": "python",
      "display_name": "Python 3",
      "name": "python3"
    },
    "language_info": {
      "pygments_lexer": "ipython3",
      "nbconvert_exporter": "python",
      "version": "3.6.4",
      "file_extension": ".py",
      "codemirror_mode": {
        "name": "ipython",
        "version": 3
      },
      "name": "python",
      "mimetype": "text/x-python"
    },
    "colab": {
      "name": "Lane Line Detection",
      "provenance": []
    }
  },
  "nbformat": 4,
  "nbformat_minor": 0
}